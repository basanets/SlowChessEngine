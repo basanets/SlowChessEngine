{
 "cells": [
  {
   "cell_type": "code",
   "execution_count": null,
   "id": "8d22427c",
   "metadata": {},
   "outputs": [],
   "source": [
    "import pandas as pd\n",
    "import numpy as np\n",
    "import tensorflow as tf\n",
    "import chess"
   ]
  },
  {
   "cell_type": "code",
   "execution_count": null,
   "id": "73a068a3",
   "metadata": {},
   "outputs": [],
   "source": [
    "\"\"\"\n",
    "12 types of pieces per 64 squares, \n",
    "#16 squares to encode e.p. moves\n",
    "#4 castling rules\n",
    "#1 for side to move (0 for white, 1 for black)\n",
    "\"\"\"\n",
    "\n",
    "squares = 64\n",
    "features_per_square = 12\n",
    "#ep_square_features = 16\n",
    "#castling_rights_features = 4\n",
    "#side_to_move_features = 1\n",
    "\n",
    "total_number_of_features = squares * features_per_square #\\\n",
    "#                           + ep_square_features \\\n",
    "#                           + castling_rights_features \\\n",
    "#                           + side_to_move_features"
   ]
  },
  {
   "cell_type": "code",
   "execution_count": null,
   "id": "1bc6502c",
   "metadata": {},
   "outputs": [],
   "source": [
    "def read_dataset(filepath):\n",
    "    df = pd.read_csv(filepath)\n",
    "    return df"
   ]
  },
  {
   "cell_type": "code",
   "execution_count": null,
   "id": "219027c1",
   "metadata": {},
   "outputs": [],
   "source": [
    "def chess_piece_index(piece, board):\n",
    "    index = int(piece.piece_type) - 1\n",
    "    if (piece.color != board.turn):\n",
    "        index += 6\n",
    "    return index"
   ]
  },
  {
   "cell_type": "code",
   "execution_count": null,
   "id": "b34a06c5",
   "metadata": {},
   "outputs": [],
   "source": [
    "def en_passant_square_index(square):\n",
    "    index = chess.square_file(square)\n",
    "    if (chess.square_rank(square) != 2):\n",
    "        index += 8\n",
    "    return index"
   ]
  },
  {
   "cell_type": "code",
   "execution_count": null,
   "id": "1b860b28",
   "metadata": {},
   "outputs": [],
   "source": [
    "def row_from_fen(fen):\n",
    "    board = chess.Board(fen)\n",
    "    row = [0 for i in range(total_number_of_features)]\n",
    "\n",
    "    for square in chess.SQUARES:\n",
    "        if board.piece_at(square) != None:\n",
    "            feature_index = int(square) * features_per_square \\\n",
    "                            + chess_piece_index(board.piece_at(square), board)\n",
    "            row[feature_index] = 1\n",
    "                \n",
    "    return np.asarray(row, dtype=bool)"
   ]
  },
  {
   "cell_type": "code",
   "execution_count": null,
   "id": "ac8a9004",
   "metadata": {},
   "outputs": [],
   "source": [
    "def transform_evaluation(eval):\n",
    "    checkmate_score = 10000\n",
    "    loss_per_move_to_checkmate = 100\n",
    "    evaluation = 0\n",
    "    \n",
    "    if eval[0] == '\\ufeff':\n",
    "        eval = eval[1:]\n",
    "    \n",
    "    if eval[0] == '#':\n",
    "        moves_to_checkmate = int(eval[2:])\n",
    "        sign = 1 if eval[1] == '+' else -1\n",
    "        evaluation = sign * (checkmate_score - (abs(moves_to_checkmate) - 1) * loss_per_move_to_checkmate)\n",
    "    else:\n",
    "        evaluation = int(eval)\n",
    "        \n",
    "    #normalize    \n",
    "    evaluation = np.clip(evaluation, -checkmate_score, checkmate_score)\n",
    "    return evaluation / 10000.0"
   ]
  },
  {
   "cell_type": "code",
   "execution_count": null,
   "id": "027839bb",
   "metadata": {},
   "outputs": [],
   "source": [
    "def bytes_list_feature(value):\n",
    "    return tf.train.Feature(bytes_list=tf.train.BytesList(value=[value]))"
   ]
  },
  {
   "cell_type": "code",
   "execution_count": null,
   "id": "299cf3d6",
   "metadata": {},
   "outputs": [],
   "source": [
    "def float32_feature(value):\n",
    "    return tf.train.Feature(float_list=tf.train.FloatList(value=[value]))"
   ]
  },
  {
   "cell_type": "code",
   "execution_count": null,
   "id": "096f1061",
   "metadata": {},
   "outputs": [],
   "source": [
    "def position_example(position, y):\n",
    "    feature = {'feature': bytes_list_feature(position)}\n",
    "    feature['y'] = float32_feature(y)\n",
    "    return tf.train.Example(features=tf.train.Features(feature=feature))"
   ]
  },
  {
   "cell_type": "code",
   "execution_count": null,
   "id": "16f2bd67",
   "metadata": {},
   "outputs": [],
   "source": [
    "def parse_dataset(record):\n",
    "    features_names = {'f'+str(i): tf.io.FixedLenFeature([], tf.byte) for i in range(total_number_of_features)}\n",
    "    output_name = {'y' : tf.io.FixedLenFeature([], tf.float32)}\n",
    "    features = tf.io.parse_example([record], features=features_names)\n",
    "    output = tf.io.parse_example([record], features=output_name)\n",
    "    return features, output"
   ]
  },
  {
   "cell_type": "code",
   "execution_count": null,
   "id": "b737de44",
   "metadata": {},
   "outputs": [],
   "source": [
    "filename = \"~/university/SlowChessEngine/nn/chessData.csv\"\n",
    "df = read_dataset(filename)"
   ]
  },
  {
   "cell_type": "code",
   "execution_count": null,
   "id": "e19048ea",
   "metadata": {},
   "outputs": [],
   "source": [
    "batch_size = 10000000\n",
    "batch_index = 1\n",
    "\n",
    "for index in df.index:\n",
    "    \n",
    "    if index % batch_size == 0:\n",
    "        if batch_index != 1:\n",
    "            writer.close()\n",
    "        writer = tf.io.TFRecordWriter(f'/home/mikhail/university/SlowChessEngine/nn/chess_dataset{batch_index}.tfrecord')\n",
    "        batch_index += 1\n",
    "    \n",
    "    evaluation = transform_evaluation(df[\"Evaluation\"][index])\n",
    "    features = row_from_fen(df[\"FEN\"][index]).tobytes()\n",
    "    #iterate through csv\n",
    "    ex = position_example(features, evaluation)\n",
    "    writer.write(ex.SerializeToString())\n",
    "\n",
    "writer.close()\n"
   ]
  },
  {
   "cell_type": "code",
   "execution_count": null,
   "id": "283a59a5",
   "metadata": {},
   "outputs": [],
   "source": []
  }
 ],
 "metadata": {
  "kernelspec": {
   "display_name": "Python 3",
   "language": "python",
   "name": "python3"
  },
  "language_info": {
   "codemirror_mode": {
    "name": "ipython",
    "version": 3
   },
   "file_extension": ".py",
   "mimetype": "text/x-python",
   "name": "python",
   "nbconvert_exporter": "python",
   "pygments_lexer": "ipython3",
   "version": "3.8.6"
  }
 },
 "nbformat": 4,
 "nbformat_minor": 5
}
