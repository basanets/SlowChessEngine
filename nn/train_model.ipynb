{
 "cells": [
  {
   "cell_type": "code",
   "execution_count": 1,
   "id": "ddc19a75",
   "metadata": {},
   "outputs": [],
   "source": [
    "import numpy as np\n",
    "import tensorflow as tf\n",
    "import glob"
   ]
  },
  {
   "cell_type": "code",
   "execution_count": 2,
   "id": "f8abc047",
   "metadata": {},
   "outputs": [],
   "source": [
    "def get_dataset(records_path, shuffle_size, batch_size):\n",
    "    tf_records = glob.glob(records_path)\n",
    "    dataset = tf.data.TFRecordDataset(tf_records)\n",
    "    dataset = dataset.map(parse_dataset)\n",
    "    #dataset = dataset.shuffle(shuffle_size).batch(batch_size)\n",
    "    dataset = dataset.batch(batch_size)\n",
    "    return dataset"
   ]
  },
  {
   "cell_type": "code",
   "execution_count": 3,
   "id": "85e49c95",
   "metadata": {},
   "outputs": [],
   "source": [
    "def parse_dataset(record):\n",
    "    name_to_features = {\n",
    "        'feature': tf.io.FixedLenFeature([], tf.string),\n",
    "        'y' : tf.io.FixedLenFeature([], tf.float32)\n",
    "    }\n",
    "    features = tf.io.parse_example([record], features=name_to_features)\n",
    "    X = tf.io.decode_raw(features['feature'], bool)\n",
    "    return X, features['y']"
   ]
  },
  {
   "cell_type": "code",
   "execution_count": null,
   "id": "e581413b",
   "metadata": {},
   "outputs": [],
   "source": [
    "def create_model():\n",
    "    model = tf.keras.Sequential()\n",
    "    model.add(tf.keras.layers.Input((1, 768)))\n",
    "    model.add(tf.keras.layers.Dense(512, activation='relu'))\n",
    "    model.add(tf.keras.layers.Dense(128, activation='relu'))\n",
    "    model.add(tf.keras.layers.Dense(32, activation='relu'))\n",
    "    model.add(tf.keras.layers.Dense(1, activation='tanh'))\n",
    "    model.compile(optimizer = 'adam', loss = 'mse', metrics = ['mse'])\n",
    "    return model"
   ]
  },
  {
   "cell_type": "code",
   "execution_count": null,
   "id": "44c3159e",
   "metadata": {},
   "outputs": [],
   "source": [
    "model = create_model()"
   ]
  },
  {
   "cell_type": "code",
   "execution_count": null,
   "id": "1e4f37b7",
   "metadata": {},
   "outputs": [],
   "source": [
    "model.summary()"
   ]
  },
  {
   "cell_type": "code",
   "execution_count": null,
   "id": "779293c6",
   "metadata": {},
   "outputs": [],
   "source": [
    "dataset = get_dataset(\"./*.tfrecord\", 1000, 32)"
   ]
  },
  {
   "cell_type": "code",
   "execution_count": null,
   "id": "728e0098",
   "metadata": {},
   "outputs": [],
   "source": [
    "callback = tf.keras.callbacks.TensorBoard(\n",
    "    log_dir='logs', update_freq = 1000\n",
    ")\n",
    "model.fit(dataset, epochs = 1, callbacks = [callback])"
   ]
  },
  {
   "cell_type": "code",
   "execution_count": null,
   "id": "120ffbe2",
   "metadata": {},
   "outputs": [],
   "source": [
    "model.save(\"evaluate_position_simplified\")"
   ]
  },
  {
   "cell_type": "code",
   "execution_count": null,
   "id": "dead9e00",
   "metadata": {},
   "outputs": [],
   "source": [
    "for batch in dataset:\n",
    "    print((batch[0][0]))\n",
    "    print(batch[1])\n",
    "    break"
   ]
  },
  {
   "cell_type": "code",
   "execution_count": null,
   "id": "f9fe1524",
   "metadata": {},
   "outputs": [],
   "source": []
  }
 ],
 "metadata": {
  "kernelspec": {
   "display_name": "Python 3",
   "language": "python",
   "name": "python3"
  },
  "language_info": {
   "codemirror_mode": {
    "name": "ipython",
    "version": 3
   },
   "file_extension": ".py",
   "mimetype": "text/x-python",
   "name": "python",
   "nbconvert_exporter": "python",
   "pygments_lexer": "ipython3",
   "version": "3.8.6"
  }
 },
 "nbformat": 4,
 "nbformat_minor": 5
}
